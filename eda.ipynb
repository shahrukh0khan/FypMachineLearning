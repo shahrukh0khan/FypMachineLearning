{
 "cells": [
  {
   "cell_type": "markdown",
   "metadata": {},
   "source": [
    "## Exploratory Data Analysis"
   ]
  },
  {
   "cell_type": "markdown",
   "metadata": {},
   "source": [
    "### Quick look at the Data"
   ]
  },
  {
   "cell_type": "code",
   "execution_count": 3,
   "metadata": {},
   "outputs": [],
   "source": [
    "import pandas as pd\n",
    "import matplotlib as mpl\n",
    "#mpl.rcParams['agg.path.chunksize'] = 10000\n",
    "import matplotlib.pyplot as plt\n",
    "import seaborn as sns\n",
    "import os\n",
    "path = os.getcwd()"
   ]
  },
  {
   "cell_type": "markdown",
   "metadata": {},
   "source": [
    "Loading data into \"main_df\" variable"
   ]
  },
  {
   "cell_type": "code",
   "execution_count": null,
   "metadata": {},
   "outputs": [],
   "source": [
    "#loc_data = pd.read_csv('03_LocationMaster.csv')\n",
    "# prod_data = pd.read_csv(r'C:\\Users\\sk166\\02_ProductMaster.csv')\n",
    "# date_data = pd.read_csv(r'C:\\Users\\sk166\\01_CalendarMaster.csv')\n",
    "#main_df = pd.read_csv(r'C:\\Users\\sk166\\09_Project3.csv')\n",
    "main_df = pd.read_csv(r'C:\\Users\\sk166\\MainDataFrame.csv') "
   ]
  },
  {
   "cell_type": "markdown",
   "metadata": {},
   "source": [
    "Outputting first and last 5 rows to get fimiliar with data.\\\n",
    "Data shows 20 columns with 43,016,599 rows. "
   ]
  },
  {
   "cell_type": "code",
   "execution_count": 3,
   "metadata": {
    "scrolled": true
   },
   "outputs": [
    {
     "data": {
      "text/html": [
       "<div>\n",
       "<style scoped>\n",
       "    .dataframe tbody tr th:only-of-type {\n",
       "        vertical-align: middle;\n",
       "    }\n",
       "\n",
       "    .dataframe tbody tr th {\n",
       "        vertical-align: top;\n",
       "    }\n",
       "\n",
       "    .dataframe thead th {\n",
       "        text-align: right;\n",
       "    }\n",
       "</style>\n",
       "<table border=\"1\" class=\"dataframe\">\n",
       "  <thead>\n",
       "    <tr style=\"text-align: right;\">\n",
       "      <th></th>\n",
       "      <th>Date</th>\n",
       "      <th>ProductKey</th>\n",
       "      <th>LocationKey</th>\n",
       "      <th>DemandUnits</th>\n",
       "      <th>OrderedUnits</th>\n",
       "      <th>CollectedUnits</th>\n",
       "      <th>YearWeek</th>\n",
       "      <th>DayOfWeek</th>\n",
       "      <th>IsBankHoliday</th>\n",
       "      <th>IsWorkingDay</th>\n",
       "      <th>HierarchyLevel1</th>\n",
       "      <th>HierarchyLevel2</th>\n",
       "      <th>Seasonal</th>\n",
       "      <th>IsHub</th>\n",
       "      <th>LocationType1</th>\n",
       "      <th>LocationType2</th>\n",
       "      <th>Latitude</th>\n",
       "      <th>Longitude</th>\n",
       "      <th>SimpleOrderPropensity</th>\n",
       "      <th>CollectOrderPropensity</th>\n",
       "    </tr>\n",
       "  </thead>\n",
       "  <tbody>\n",
       "    <tr>\n",
       "      <th>0</th>\n",
       "      <td>20180828</td>\n",
       "      <td>42972</td>\n",
       "      <td>3260</td>\n",
       "      <td>2</td>\n",
       "      <td>2</td>\n",
       "      <td>2</td>\n",
       "      <td>201835</td>\n",
       "      <td>3</td>\n",
       "      <td>False</td>\n",
       "      <td>True</td>\n",
       "      <td>71645</td>\n",
       "      <td>32668</td>\n",
       "      <td>False</td>\n",
       "      <td>False</td>\n",
       "      <td>29524</td>\n",
       "      <td>3</td>\n",
       "      <td>51.341607</td>\n",
       "      <td>0.572741</td>\n",
       "      <td>1.0</td>\n",
       "      <td>1.0</td>\n",
       "    </tr>\n",
       "    <tr>\n",
       "      <th>1</th>\n",
       "      <td>20180820</td>\n",
       "      <td>42972</td>\n",
       "      <td>23485</td>\n",
       "      <td>1</td>\n",
       "      <td>0</td>\n",
       "      <td>0</td>\n",
       "      <td>201834</td>\n",
       "      <td>2</td>\n",
       "      <td>False</td>\n",
       "      <td>True</td>\n",
       "      <td>71645</td>\n",
       "      <td>32668</td>\n",
       "      <td>False</td>\n",
       "      <td>False</td>\n",
       "      <td>57890</td>\n",
       "      <td>1</td>\n",
       "      <td>51.443878</td>\n",
       "      <td>0.217438</td>\n",
       "      <td>0.0</td>\n",
       "      <td>0.0</td>\n",
       "    </tr>\n",
       "    <tr>\n",
       "      <th>2</th>\n",
       "      <td>20180826</td>\n",
       "      <td>42972</td>\n",
       "      <td>23485</td>\n",
       "      <td>1</td>\n",
       "      <td>0</td>\n",
       "      <td>0</td>\n",
       "      <td>201835</td>\n",
       "      <td>1</td>\n",
       "      <td>False</td>\n",
       "      <td>False</td>\n",
       "      <td>71645</td>\n",
       "      <td>32668</td>\n",
       "      <td>False</td>\n",
       "      <td>False</td>\n",
       "      <td>57890</td>\n",
       "      <td>1</td>\n",
       "      <td>51.443878</td>\n",
       "      <td>0.217438</td>\n",
       "      <td>0.0</td>\n",
       "      <td>0.0</td>\n",
       "    </tr>\n",
       "    <tr>\n",
       "      <th>3</th>\n",
       "      <td>20180827</td>\n",
       "      <td>42972</td>\n",
       "      <td>23485</td>\n",
       "      <td>1</td>\n",
       "      <td>0</td>\n",
       "      <td>0</td>\n",
       "      <td>201835</td>\n",
       "      <td>2</td>\n",
       "      <td>True</td>\n",
       "      <td>False</td>\n",
       "      <td>71645</td>\n",
       "      <td>32668</td>\n",
       "      <td>False</td>\n",
       "      <td>False</td>\n",
       "      <td>57890</td>\n",
       "      <td>1</td>\n",
       "      <td>51.443878</td>\n",
       "      <td>0.217438</td>\n",
       "      <td>0.0</td>\n",
       "      <td>0.0</td>\n",
       "    </tr>\n",
       "    <tr>\n",
       "      <th>4</th>\n",
       "      <td>20170815</td>\n",
       "      <td>42972</td>\n",
       "      <td>70984</td>\n",
       "      <td>2</td>\n",
       "      <td>2</td>\n",
       "      <td>2</td>\n",
       "      <td>201733</td>\n",
       "      <td>3</td>\n",
       "      <td>False</td>\n",
       "      <td>True</td>\n",
       "      <td>71645</td>\n",
       "      <td>32668</td>\n",
       "      <td>False</td>\n",
       "      <td>False</td>\n",
       "      <td>29524</td>\n",
       "      <td>1</td>\n",
       "      <td>51.855869</td>\n",
       "      <td>-4.309183</td>\n",
       "      <td>1.0</td>\n",
       "      <td>1.0</td>\n",
       "    </tr>\n",
       "  </tbody>\n",
       "</table>\n",
       "</div>"
      ],
      "text/plain": [
       "       Date  ProductKey  LocationKey  DemandUnits  OrderedUnits  \\\n",
       "0  20180828       42972         3260            2             2   \n",
       "1  20180820       42972        23485            1             0   \n",
       "2  20180826       42972        23485            1             0   \n",
       "3  20180827       42972        23485            1             0   \n",
       "4  20170815       42972        70984            2             2   \n",
       "\n",
       "   CollectedUnits  YearWeek  DayOfWeek  IsBankHoliday  IsWorkingDay  \\\n",
       "0               2    201835          3          False          True   \n",
       "1               0    201834          2          False          True   \n",
       "2               0    201835          1          False         False   \n",
       "3               0    201835          2           True         False   \n",
       "4               2    201733          3          False          True   \n",
       "\n",
       "   HierarchyLevel1  HierarchyLevel2  Seasonal  IsHub  LocationType1  \\\n",
       "0            71645            32668     False  False          29524   \n",
       "1            71645            32668     False  False          57890   \n",
       "2            71645            32668     False  False          57890   \n",
       "3            71645            32668     False  False          57890   \n",
       "4            71645            32668     False  False          29524   \n",
       "\n",
       "   LocationType2   Latitude  Longitude  SimpleOrderPropensity  \\\n",
       "0              3  51.341607   0.572741                    1.0   \n",
       "1              1  51.443878   0.217438                    0.0   \n",
       "2              1  51.443878   0.217438                    0.0   \n",
       "3              1  51.443878   0.217438                    0.0   \n",
       "4              1  51.855869  -4.309183                    1.0   \n",
       "\n",
       "   CollectOrderPropensity  \n",
       "0                     1.0  \n",
       "1                     0.0  \n",
       "2                     0.0  \n",
       "3                     0.0  \n",
       "4                     1.0  "
      ]
     },
     "execution_count": 3,
     "metadata": {},
     "output_type": "execute_result"
    }
   ],
   "source": [
    "main_df.head(5)"
   ]
  },
  {
   "cell_type": "code",
   "execution_count": 4,
   "metadata": {
    "scrolled": false
   },
   "outputs": [
    {
     "name": "stdout",
     "output_type": "stream",
     "text": [
      "<class 'pandas.core.frame.DataFrame'>\n",
      "RangeIndex: 43016599 entries, 0 to 43016598\n",
      "Data columns (total 20 columns):\n",
      " #   Column                  Dtype  \n",
      "---  ------                  -----  \n",
      " 0   Date                    int64  \n",
      " 1   ProductKey              int64  \n",
      " 2   LocationKey             int64  \n",
      " 3   DemandUnits             int64  \n",
      " 4   OrderedUnits            int64  \n",
      " 5   CollectedUnits          int64  \n",
      " 6   YearWeek                int64  \n",
      " 7   DayOfWeek               int64  \n",
      " 8   IsBankHoliday           bool   \n",
      " 9   IsWorkingDay            bool   \n",
      " 10  HierarchyLevel1         int64  \n",
      " 11  HierarchyLevel2         int64  \n",
      " 12  Seasonal                bool   \n",
      " 13  IsHub                   bool   \n",
      " 14  LocationType1           int64  \n",
      " 15  LocationType2           int64  \n",
      " 16  Latitude                float64\n",
      " 17  Longitude               float64\n",
      " 18  SimpleOrderPropensity   float64\n",
      " 19  CollectOrderPropensity  float64\n",
      "dtypes: bool(4), float64(4), int64(12)\n",
      "memory usage: 5.3 GB\n"
     ]
    }
   ],
   "source": [
    "main_df.info() "
   ]
  },
  {
   "cell_type": "code",
   "execution_count": null,
   "metadata": {},
   "outputs": [],
   "source": [
    "corr = main_df.corr()\n",
    "corr[\"SimpleOrderPropensity\"].sort_values(ascending=False)"
   ]
  },
  {
   "cell_type": "code",
   "execution_count": null,
   "metadata": {},
   "outputs": [],
   "source": [
    "corr[\"CollectOrderPropensity\"].sort_values(ascending=False)"
   ]
  },
  {
   "cell_type": "markdown",
   "metadata": {},
   "source": [
    "Basic statistics of products demand, order, collection and propensities..."
   ]
  },
  {
   "cell_type": "code",
   "execution_count": 8,
   "metadata": {
    "scrolled": true
   },
   "outputs": [
    {
     "data": {
      "text/html": [
       "<div>\n",
       "<style scoped>\n",
       "    .dataframe tbody tr th:only-of-type {\n",
       "        vertical-align: middle;\n",
       "    }\n",
       "\n",
       "    .dataframe tbody tr th {\n",
       "        vertical-align: top;\n",
       "    }\n",
       "\n",
       "    .dataframe thead th {\n",
       "        text-align: right;\n",
       "    }\n",
       "</style>\n",
       "<table border=\"1\" class=\"dataframe\">\n",
       "  <thead>\n",
       "    <tr style=\"text-align: right;\">\n",
       "      <th></th>\n",
       "      <th>DemandUnits</th>\n",
       "      <th>OrderedUnits</th>\n",
       "      <th>CollectedUnits</th>\n",
       "      <th>SimpleOrderPropensity</th>\n",
       "      <th>CollectOrderPropensity</th>\n",
       "    </tr>\n",
       "  </thead>\n",
       "  <tbody>\n",
       "    <tr>\n",
       "      <th>count</th>\n",
       "      <td>43016599.00</td>\n",
       "      <td>43016599.00</td>\n",
       "      <td>43016599.00</td>\n",
       "      <td>43016599.00</td>\n",
       "      <td>43016599.00</td>\n",
       "    </tr>\n",
       "    <tr>\n",
       "      <th>mean</th>\n",
       "      <td>1.14</td>\n",
       "      <td>0.91</td>\n",
       "      <td>0.69</td>\n",
       "      <td>0.80</td>\n",
       "      <td>0.62</td>\n",
       "    </tr>\n",
       "    <tr>\n",
       "      <th>std</th>\n",
       "      <td>0.70</td>\n",
       "      <td>0.78</td>\n",
       "      <td>0.65</td>\n",
       "      <td>0.39</td>\n",
       "      <td>0.48</td>\n",
       "    </tr>\n",
       "    <tr>\n",
       "      <th>min</th>\n",
       "      <td>1.00</td>\n",
       "      <td>0.00</td>\n",
       "      <td>0.00</td>\n",
       "      <td>0.00</td>\n",
       "      <td>0.00</td>\n",
       "    </tr>\n",
       "    <tr>\n",
       "      <th>25%</th>\n",
       "      <td>1.00</td>\n",
       "      <td>1.00</td>\n",
       "      <td>0.00</td>\n",
       "      <td>1.00</td>\n",
       "      <td>0.00</td>\n",
       "    </tr>\n",
       "    <tr>\n",
       "      <th>50%</th>\n",
       "      <td>1.00</td>\n",
       "      <td>1.00</td>\n",
       "      <td>1.00</td>\n",
       "      <td>1.00</td>\n",
       "      <td>1.00</td>\n",
       "    </tr>\n",
       "    <tr>\n",
       "      <th>75%</th>\n",
       "      <td>1.00</td>\n",
       "      <td>1.00</td>\n",
       "      <td>1.00</td>\n",
       "      <td>1.00</td>\n",
       "      <td>1.00</td>\n",
       "    </tr>\n",
       "    <tr>\n",
       "      <th>max</th>\n",
       "      <td>580.00</td>\n",
       "      <td>580.00</td>\n",
       "      <td>294.00</td>\n",
       "      <td>4.00</td>\n",
       "      <td>3.33</td>\n",
       "    </tr>\n",
       "  </tbody>\n",
       "</table>\n",
       "</div>"
      ],
      "text/plain": [
       "       DemandUnits  OrderedUnits  CollectedUnits  SimpleOrderPropensity  \\\n",
       "count  43016599.00   43016599.00     43016599.00            43016599.00   \n",
       "mean          1.14          0.91            0.69                   0.80   \n",
       "std           0.70          0.78            0.65                   0.39   \n",
       "min           1.00          0.00            0.00                   0.00   \n",
       "25%           1.00          1.00            0.00                   1.00   \n",
       "50%           1.00          1.00            1.00                   1.00   \n",
       "75%           1.00          1.00            1.00                   1.00   \n",
       "max         580.00        580.00          294.00                   4.00   \n",
       "\n",
       "       CollectOrderPropensity  \n",
       "count             43016599.00  \n",
       "mean                     0.62  \n",
       "std                      0.48  \n",
       "min                      0.00  \n",
       "25%                      0.00  \n",
       "50%                      1.00  \n",
       "75%                      1.00  \n",
       "max                      3.33  "
      ]
     },
     "execution_count": 8,
     "metadata": {},
     "output_type": "execute_result"
    }
   ],
   "source": [
    "pd.set_option('display.float_format', lambda x: '%.2f' % x)\n",
    "main_df.loc[:, [\"DemandUnits\", \"OrderedUnits\", \"CollectedUnits\", \n",
    "                \"SimpleOrderPropensity\", \"CollectOrderPropensity\"]].describe()\n"
   ]
  },
  {
   "cell_type": "markdown",
   "metadata": {},
   "source": [
    "It can be seen that average (mean) deamand of units is greater than average orders, and that greater than average units collection.\n",
    "_______________________________________________________________________________________"
   ]
  },
  {
   "cell_type": "markdown",
   "metadata": {},
   "source": [
    "There have been 65,160 different type of products in Argos inventory being sold across 1,247 stores in 3 years time span!"
   ]
  },
  {
   "cell_type": "code",
   "execution_count": 9,
   "metadata": {
    "scrolled": true
   },
   "outputs": [
    {
     "data": {
      "text/plain": [
       "28152    16900\n",
       "63886    15916\n",
       "61980    15879\n",
       "55943    15516\n",
       "42283    15190\n",
       "         ...  \n",
       "72782        1\n",
       "1932         1\n",
       "34714        1\n",
       "67495        1\n",
       "76894        1\n",
       "Name: ProductKey, Length: 65160, dtype: int64"
      ]
     },
     "execution_count": 9,
     "metadata": {},
     "output_type": "execute_result"
    }
   ],
   "source": [
    "main_df.ProductKey.value_counts()"
   ]
  },
  {
   "cell_type": "code",
   "execution_count": 10,
   "metadata": {
    "scrolled": true
   },
   "outputs": [
    {
     "data": {
      "text/plain": [
       "25194    195916\n",
       "72448    166560\n",
       "26800    155710\n",
       "67378    152407\n",
       "39596    146126\n",
       "          ...  \n",
       "21726        21\n",
       "58455        20\n",
       "14920        15\n",
       "60269        15\n",
       "1873         11\n",
       "Name: LocationKey, Length: 1247, dtype: int64"
      ]
     },
     "execution_count": 10,
     "metadata": {},
     "output_type": "execute_result"
    }
   ],
   "source": [
    "main_df.LocationKey.value_counts()"
   ]
  },
  {
   "cell_type": "markdown",
   "metadata": {},
   "source": [
    "Product hierarchy by type of products. Examples of this hierarchy level include Kettles, Televisions, Bedsheets"
   ]
  },
  {
   "cell_type": "code",
   "execution_count": 27,
   "metadata": {
    "scrolled": true
   },
   "outputs": [
    {
     "data": {
      "text/plain": [
       "181"
      ]
     },
     "execution_count": 27,
     "metadata": {},
     "output_type": "execute_result"
    }
   ],
   "source": [
    "len(main_df[\"HierarchyLevel1\"].value_counts())"
   ]
  },
  {
   "cell_type": "markdown",
   "metadata": {},
   "source": [
    "HierarchyLevel1 maps many-to-one to HierarchyLevel2. Examples of this hierarchy level include Household Electricals, Technology, Furniture"
   ]
  },
  {
   "cell_type": "code",
   "execution_count": 28,
   "metadata": {},
   "outputs": [
    {
     "data": {
      "text/plain": [
       "26"
      ]
     },
     "execution_count": 28,
     "metadata": {},
     "output_type": "execute_result"
    }
   ],
   "source": [
    "len(main_df[\"HierarchyLevel2\"].value_counts())"
   ]
  },
  {
   "cell_type": "markdown",
   "metadata": {},
   "source": [
    "Classifies locations by their shop-front type. Examples include High Street, Retail Park, Within Supermarket"
   ]
  },
  {
   "cell_type": "code",
   "execution_count": 3,
   "metadata": {},
   "outputs": [
    {
     "data": {
      "text/plain": [
       "7"
      ]
     },
     "execution_count": 3,
     "metadata": {},
     "output_type": "execute_result"
    }
   ],
   "source": [
    "len(main_df[\"LocationType1\"].value_counts())"
   ]
  },
  {
   "cell_type": "markdown",
   "metadata": {},
   "source": [
    "Classifies locations by their surrounding area. Examples include Town Centre, Rural, Destination Shopping Centre"
   ]
  },
  {
   "cell_type": "code",
   "execution_count": 4,
   "metadata": {},
   "outputs": [
    {
     "data": {
      "text/plain": [
       "3"
      ]
     },
     "execution_count": 4,
     "metadata": {},
     "output_type": "execute_result"
    }
   ],
   "source": [
    "len(main_df[\"LocationType2\"].value_counts())"
   ]
  },
  {
   "cell_type": "markdown",
   "metadata": {},
   "source": [
    "Order propensities are continious numerical values, 33970101 units have been ordered as same as their demand, meanwhile 7985644 units had no or some demand but were not ordered. "
   ]
  },
  {
   "cell_type": "markdown",
   "metadata": {},
   "source": [
    "26020096 units have been collected as same as their demand, meanwhile 15677408 units had no or some demand but were not collected i.e. might not have been ordered aswell. "
   ]
  },
  {
   "cell_type": "markdown",
   "metadata": {},
   "source": [
    "## Univariate Analysis"
   ]
  },
  {
   "cell_type": "markdown",
   "metadata": {},
   "source": [
    "### Graph Plots for Categorical Variables \n",
    "<!-- Each plot corresponds to different product demands on various days/dates during the 3 year time span. \\ -->\n",
    "Each date has atleast a minimum (1 unit) demand for specific product even if amount of order or collection is zero."
   ]
  },
  {
   "cell_type": "code",
   "execution_count": 56,
   "metadata": {
    "scrolled": true
   },
   "outputs": [
    {
     "data": {
      "image/png": "[encoded data removed]",
      "text/plain": [
       "<Figure size 720x936 with 4 Axes>"
      ]
     },
     "metadata": {
      "needs_background": "light"
     },
     "output_type": "display_data"
    }
   ],
   "source": [
    "plt.subplot(321)\n",
    "main_df.IsBankHoliday.value_counts(normalize=True).plot(kind=\"bar\", title=\"Bank Holiday\", figsize=(10,13))\n",
    "plt.tight_layout(pad=1)\n",
    "plt.subplot(322)\n",
    "main_df.IsWorkingDay.value_counts(normalize=True).plot(kind=\"bar\", title=\"Working Day\")\n",
    "plt.tight_layout(pad=1)\n",
    "plt.subplot(323)\n",
    "main_df.Seasonal.value_counts(normalize=True).plot(kind=\"bar\", title=\"Seasonal Products\")\n",
    "plt.tight_layout(pad=1)\n",
    "plt.subplot(324)\n",
    "main_df.IsHub.value_counts(normalize=True).plot(kind=\"bar\", title=\"Hubs\")\n",
    "plt.tight_layout(pad=1)"
   ]
  },
  {
   "cell_type": "markdown",
   "metadata": {},
   "source": [
    "### Graph Plots for Products"
   ]
  },
  {
   "cell_type": "code",
   "execution_count": 3,
   "metadata": {
    "scrolled": false
   },
   "outputs": [
    {
     "data": {
      "image/png": "[encoded data removed]",
      "text/plain": [
       "<Figure size 792x936 with 4 Axes>"
      ]
     },
     "metadata": {
      "needs_background": "light"
     },
     "output_type": "display_data"
    }
   ],
   "source": [
    "plt.subplot(221)\n",
    "main_df.DayOfWeek.value_counts(normalize=True).plot(kind=\"bar\",title=\"Daily Demand Ratio\",figsize=(11,13))\n",
    "plt.tight_layout(pad=1)\n",
    "plt.subplot(222)\n",
    "main_df.groupby(\"ProductKey\").DemandUnits.sum().sort_values(ascending=False).head(10).plot(\n",
    "    kind=\"bar\",title=\"Top 10 Products by Demand (Overall)\")\n",
    "plt.tight_layout(pad=1)\n",
    "plt.subplot(223)\n",
    "main_df.groupby(\"ProductKey\").OrderedUnits.sum().sort_values(ascending=False).head(10).plot(\n",
    "    kind=\"bar\",title=\"Top 10 Products by Orders (Overall)\")\n",
    "plt.tight_layout(pad=1)\n",
    "plt.subplot(224)\n",
    "main_df.groupby(\"ProductKey\").CollectedUnits.sum().sort_values(ascending=False).head(10).plot(\n",
    "    kind=\"bar\",title=\"Top 10 Products by Collection (Overall)\")\n",
    "plt.tight_layout(pad=1)"
   ]
  },
  {
   "cell_type": "markdown",
   "metadata": {},
   "source": [
    "### Graph plots for location specific data"
   ]
  },
  {
   "cell_type": "code",
   "execution_count": 8,
   "metadata": {},
   "outputs": [
    {
     "data": {
      "image/png": "[encoded data removed]",
      "text/plain": [
       "<Figure size 792x936 with 3 Axes>"
      ]
     },
     "metadata": {
      "needs_background": "light"
     },
     "output_type": "display_data"
    }
   ],
   "source": [
    "plt.subplot(221)\n",
    "main_df.groupby(\"LocationKey\").OrderedUnits.sum().sort_values(ascending = False).head(10).plot(\n",
    "    kind=\"bar\", title=\"Top 10 Store Locations by Orders (Overall)\", figsize=(11,13))\n",
    "plt.tight_layout(pad=1)\n",
    "plt.subplot(222)\n",
    "main_df.LocationType2.value_counts(normalize = True).plot(\n",
    "    kind=\"bar\", title=\"Town Centre vs Rural vs Destination Shopping Centre\")\n",
    "plt.tight_layout(pad=1)\n",
    "plt.subplot(223)\n",
    "main_df.LocationType1.value_counts(normalize = True).plot(\n",
    "    kind=\"bar\", title=\"Location Type .. High Street, Retail Park ..\")\n",
    "plt.tight_layout(pad=1)"
   ]
  },
  {
   "cell_type": "markdown",
   "metadata": {},
   "source": [
    "### Graph Plots for Continious Variables "
   ]
  },
  {
   "cell_type": "code",
   "execution_count": 6,
   "metadata": {
    "scrolled": true
   },
   "outputs": [
    {
     "data": {
      "image/png": "[encoded data removed]",
      "text/plain": [
       "<Figure size 720x720 with 5 Axes>"
      ]
     },
     "metadata": {
      "needs_background": "light"
     },
     "output_type": "display_data"
    }
   ],
   "source": [
    "plt.subplot(231)\n",
    "main_df[\"DemandUnits\"].plot.box(figsize=(10,10))\n",
    "plt.tight_layout(pad=0.5)\n",
    "plt.subplot(232)\n",
    "main_df[\"OrderedUnits\"].plot.box()\n",
    "plt.tight_layout(pad=0.5)\n",
    "plt.subplot(233)\n",
    "main_df[\"CollectedUnits\"].plot.box()\n",
    "plt.tight_layout(pad=0.5)\n",
    "# main_df.boxplot(column=['DemandUnits', 'OrderedUnits', 'CollectedUnits'])\n",
    "plt.subplot(234)\n",
    "main_df[\"SimpleOrderPropensity\"].plot.box()\n",
    "plt.tight_layout(pad=0.5)\n",
    "plt.subplot(235)\n",
    "main_df[\"CollectOrderPropensity\"].plot.box()\n",
    "plt.tight_layout(pad=0.5)"
   ]
  },
  {
   "cell_type": "code",
   "execution_count": 10,
   "metadata": {
    "scrolled": true
   },
   "outputs": [
    {
     "data": {
      "text/plain": [
       "1.000000    33970101\n",
       "0.000000     7985644\n",
       "0.500000      857062\n",
       "0.666667       79771\n",
       "0.333333       69325\n",
       "              ...   \n",
       "0.318182           1\n",
       "0.055556           1\n",
       "0.931034           1\n",
       "0.140351           1\n",
       "0.989362           1\n",
       "Name: SimpleOrderPropensity, Length: 236, dtype: int64"
      ]
     },
     "execution_count": 10,
     "metadata": {},
     "output_type": "execute_result"
    }
   ],
   "source": [
    "main_df.SimpleOrderPropensity.value_counts()"
   ]
  },
  {
   "cell_type": "code",
   "execution_count": null,
   "metadata": {},
   "outputs": [],
   "source": [
    "main_df.CollectOrderPropensity.value_counts()"
   ]
  }
 ],
 "metadata": {
  "kernelspec": {
   "display_name": "Python 3",
   "language": "python",
   "name": "python3"
  },
  "language_info": {
   "codemirror_mode": {
    "name": "ipython",
    "version": 3
   },
   "file_extension": ".py",
   "mimetype": "text/x-python",
   "name": "python",
   "nbconvert_exporter": "python",
   "pygments_lexer": "ipython3",
   "version": "3.8.5"
  }
 },
 "nbformat": 4,
 "nbformat_minor": 4
}
